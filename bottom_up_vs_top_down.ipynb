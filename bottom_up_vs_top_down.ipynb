{
  "nbformat": 4,
  "nbformat_minor": 0,
  "metadata": {
    "colab": {
      "provenance": [],
      "authorship_tag": "ABX9TyPyaAEyjwlG3/iB28R3d9RU",
      "include_colab_link": true
    },
    "kernelspec": {
      "name": "python3",
      "display_name": "Python 3"
    },
    "language_info": {
      "name": "python"
    },
    "widgets": {
      "application/vnd.jupyter.widget-state+json": {
        "e436712117fd41d890d8a1578072b6e8": {
          "model_module": "@jupyter-widgets/controls",
          "model_name": "HBoxModel",
          "model_module_version": "1.5.0",
          "state": {
            "_dom_classes": [],
            "_model_module": "@jupyter-widgets/controls",
            "_model_module_version": "1.5.0",
            "_model_name": "HBoxModel",
            "_view_count": null,
            "_view_module": "@jupyter-widgets/controls",
            "_view_module_version": "1.5.0",
            "_view_name": "HBoxView",
            "box_style": "",
            "children": [
              "IPY_MODEL_af4183da7f9c44d8904170066a9f78c9",
              "IPY_MODEL_2fdbc6e4d162405e9f18b92b63ec642b",
              "IPY_MODEL_bcbd0ecb528b4727b842a523cddd0606"
            ],
            "layout": "IPY_MODEL_1ddf9189d5934239bc61eddfbecac25c"
          }
        },
        "af4183da7f9c44d8904170066a9f78c9": {
          "model_module": "@jupyter-widgets/controls",
          "model_name": "HTMLModel",
          "model_module_version": "1.5.0",
          "state": {
            "_dom_classes": [],
            "_model_module": "@jupyter-widgets/controls",
            "_model_module_version": "1.5.0",
            "_model_name": "HTMLModel",
            "_view_count": null,
            "_view_module": "@jupyter-widgets/controls",
            "_view_module_version": "1.5.0",
            "_view_name": "HTMLView",
            "description": "",
            "description_tooltip": null,
            "layout": "IPY_MODEL_df3f8df495aa48979aeff1e5f4bb91ce",
            "placeholder": "​",
            "style": "IPY_MODEL_33e12eace4b34552a428a9c13db45449",
            "value": "Batches: 100%"
          }
        },
        "2fdbc6e4d162405e9f18b92b63ec642b": {
          "model_module": "@jupyter-widgets/controls",
          "model_name": "FloatProgressModel",
          "model_module_version": "1.5.0",
          "state": {
            "_dom_classes": [],
            "_model_module": "@jupyter-widgets/controls",
            "_model_module_version": "1.5.0",
            "_model_name": "FloatProgressModel",
            "_view_count": null,
            "_view_module": "@jupyter-widgets/controls",
            "_view_module_version": "1.5.0",
            "_view_name": "ProgressView",
            "bar_style": "success",
            "description": "",
            "description_tooltip": null,
            "layout": "IPY_MODEL_09ae39c4fdc9433f9cb7a3be7a3383d7",
            "max": 1,
            "min": 0,
            "orientation": "horizontal",
            "style": "IPY_MODEL_442f2862e8a34c30893af7beba356579",
            "value": 1
          }
        },
        "bcbd0ecb528b4727b842a523cddd0606": {
          "model_module": "@jupyter-widgets/controls",
          "model_name": "HTMLModel",
          "model_module_version": "1.5.0",
          "state": {
            "_dom_classes": [],
            "_model_module": "@jupyter-widgets/controls",
            "_model_module_version": "1.5.0",
            "_model_name": "HTMLModel",
            "_view_count": null,
            "_view_module": "@jupyter-widgets/controls",
            "_view_module_version": "1.5.0",
            "_view_name": "HTMLView",
            "description": "",
            "description_tooltip": null,
            "layout": "IPY_MODEL_564c483c5e3d4af2ad6a2d0bbd52b4a7",
            "placeholder": "​",
            "style": "IPY_MODEL_0b964214e72e4cd4a18c54d90bd93cab",
            "value": " 1/1 [00:00&lt;00:00,  6.93it/s]"
          }
        },
        "1ddf9189d5934239bc61eddfbecac25c": {
          "model_module": "@jupyter-widgets/base",
          "model_name": "LayoutModel",
          "model_module_version": "1.2.0",
          "state": {
            "_model_module": "@jupyter-widgets/base",
            "_model_module_version": "1.2.0",
            "_model_name": "LayoutModel",
            "_view_count": null,
            "_view_module": "@jupyter-widgets/base",
            "_view_module_version": "1.2.0",
            "_view_name": "LayoutView",
            "align_content": null,
            "align_items": null,
            "align_self": null,
            "border": null,
            "bottom": null,
            "display": null,
            "flex": null,
            "flex_flow": null,
            "grid_area": null,
            "grid_auto_columns": null,
            "grid_auto_flow": null,
            "grid_auto_rows": null,
            "grid_column": null,
            "grid_gap": null,
            "grid_row": null,
            "grid_template_areas": null,
            "grid_template_columns": null,
            "grid_template_rows": null,
            "height": null,
            "justify_content": null,
            "justify_items": null,
            "left": null,
            "margin": null,
            "max_height": null,
            "max_width": null,
            "min_height": null,
            "min_width": null,
            "object_fit": null,
            "object_position": null,
            "order": null,
            "overflow": null,
            "overflow_x": null,
            "overflow_y": null,
            "padding": null,
            "right": null,
            "top": null,
            "visibility": null,
            "width": null
          }
        },
        "df3f8df495aa48979aeff1e5f4bb91ce": {
          "model_module": "@jupyter-widgets/base",
          "model_name": "LayoutModel",
          "model_module_version": "1.2.0",
          "state": {
            "_model_module": "@jupyter-widgets/base",
            "_model_module_version": "1.2.0",
            "_model_name": "LayoutModel",
            "_view_count": null,
            "_view_module": "@jupyter-widgets/base",
            "_view_module_version": "1.2.0",
            "_view_name": "LayoutView",
            "align_content": null,
            "align_items": null,
            "align_self": null,
            "border": null,
            "bottom": null,
            "display": null,
            "flex": null,
            "flex_flow": null,
            "grid_area": null,
            "grid_auto_columns": null,
            "grid_auto_flow": null,
            "grid_auto_rows": null,
            "grid_column": null,
            "grid_gap": null,
            "grid_row": null,
            "grid_template_areas": null,
            "grid_template_columns": null,
            "grid_template_rows": null,
            "height": null,
            "justify_content": null,
            "justify_items": null,
            "left": null,
            "margin": null,
            "max_height": null,
            "max_width": null,
            "min_height": null,
            "min_width": null,
            "object_fit": null,
            "object_position": null,
            "order": null,
            "overflow": null,
            "overflow_x": null,
            "overflow_y": null,
            "padding": null,
            "right": null,
            "top": null,
            "visibility": null,
            "width": null
          }
        },
        "33e12eace4b34552a428a9c13db45449": {
          "model_module": "@jupyter-widgets/controls",
          "model_name": "DescriptionStyleModel",
          "model_module_version": "1.5.0",
          "state": {
            "_model_module": "@jupyter-widgets/controls",
            "_model_module_version": "1.5.0",
            "_model_name": "DescriptionStyleModel",
            "_view_count": null,
            "_view_module": "@jupyter-widgets/base",
            "_view_module_version": "1.2.0",
            "_view_name": "StyleView",
            "description_width": ""
          }
        },
        "09ae39c4fdc9433f9cb7a3be7a3383d7": {
          "model_module": "@jupyter-widgets/base",
          "model_name": "LayoutModel",
          "model_module_version": "1.2.0",
          "state": {
            "_model_module": "@jupyter-widgets/base",
            "_model_module_version": "1.2.0",
            "_model_name": "LayoutModel",
            "_view_count": null,
            "_view_module": "@jupyter-widgets/base",
            "_view_module_version": "1.2.0",
            "_view_name": "LayoutView",
            "align_content": null,
            "align_items": null,
            "align_self": null,
            "border": null,
            "bottom": null,
            "display": null,
            "flex": null,
            "flex_flow": null,
            "grid_area": null,
            "grid_auto_columns": null,
            "grid_auto_flow": null,
            "grid_auto_rows": null,
            "grid_column": null,
            "grid_gap": null,
            "grid_row": null,
            "grid_template_areas": null,
            "grid_template_columns": null,
            "grid_template_rows": null,
            "height": null,
            "justify_content": null,
            "justify_items": null,
            "left": null,
            "margin": null,
            "max_height": null,
            "max_width": null,
            "min_height": null,
            "min_width": null,
            "object_fit": null,
            "object_position": null,
            "order": null,
            "overflow": null,
            "overflow_x": null,
            "overflow_y": null,
            "padding": null,
            "right": null,
            "top": null,
            "visibility": null,
            "width": null
          }
        },
        "442f2862e8a34c30893af7beba356579": {
          "model_module": "@jupyter-widgets/controls",
          "model_name": "ProgressStyleModel",
          "model_module_version": "1.5.0",
          "state": {
            "_model_module": "@jupyter-widgets/controls",
            "_model_module_version": "1.5.0",
            "_model_name": "ProgressStyleModel",
            "_view_count": null,
            "_view_module": "@jupyter-widgets/base",
            "_view_module_version": "1.2.0",
            "_view_name": "StyleView",
            "bar_color": null,
            "description_width": ""
          }
        },
        "564c483c5e3d4af2ad6a2d0bbd52b4a7": {
          "model_module": "@jupyter-widgets/base",
          "model_name": "LayoutModel",
          "model_module_version": "1.2.0",
          "state": {
            "_model_module": "@jupyter-widgets/base",
            "_model_module_version": "1.2.0",
            "_model_name": "LayoutModel",
            "_view_count": null,
            "_view_module": "@jupyter-widgets/base",
            "_view_module_version": "1.2.0",
            "_view_name": "LayoutView",
            "align_content": null,
            "align_items": null,
            "align_self": null,
            "border": null,
            "bottom": null,
            "display": null,
            "flex": null,
            "flex_flow": null,
            "grid_area": null,
            "grid_auto_columns": null,
            "grid_auto_flow": null,
            "grid_auto_rows": null,
            "grid_column": null,
            "grid_gap": null,
            "grid_row": null,
            "grid_template_areas": null,
            "grid_template_columns": null,
            "grid_template_rows": null,
            "height": null,
            "justify_content": null,
            "justify_items": null,
            "left": null,
            "margin": null,
            "max_height": null,
            "max_width": null,
            "min_height": null,
            "min_width": null,
            "object_fit": null,
            "object_position": null,
            "order": null,
            "overflow": null,
            "overflow_x": null,
            "overflow_y": null,
            "padding": null,
            "right": null,
            "top": null,
            "visibility": null,
            "width": null
          }
        },
        "0b964214e72e4cd4a18c54d90bd93cab": {
          "model_module": "@jupyter-widgets/controls",
          "model_name": "DescriptionStyleModel",
          "model_module_version": "1.5.0",
          "state": {
            "_model_module": "@jupyter-widgets/controls",
            "_model_module_version": "1.5.0",
            "_model_name": "DescriptionStyleModel",
            "_view_count": null,
            "_view_module": "@jupyter-widgets/base",
            "_view_module_version": "1.2.0",
            "_view_name": "StyleView",
            "description_width": ""
          }
        },
        "ff4e0fca8b414c9bb0fda07f3f0dfbe2": {
          "model_module": "@jupyter-widgets/controls",
          "model_name": "HBoxModel",
          "model_module_version": "1.5.0",
          "state": {
            "_dom_classes": [],
            "_model_module": "@jupyter-widgets/controls",
            "_model_module_version": "1.5.0",
            "_model_name": "HBoxModel",
            "_view_count": null,
            "_view_module": "@jupyter-widgets/controls",
            "_view_module_version": "1.5.0",
            "_view_name": "HBoxView",
            "box_style": "",
            "children": [
              "IPY_MODEL_3229ac6de10d47eebc9fcfafaf13d5bc",
              "IPY_MODEL_7b5bcce897a64934ae9116f1e1fc8580",
              "IPY_MODEL_adcf3fffa5644f67b41da731979df7f3"
            ],
            "layout": "IPY_MODEL_46e7143835fa4f138651aa50191c65e0"
          }
        },
        "3229ac6de10d47eebc9fcfafaf13d5bc": {
          "model_module": "@jupyter-widgets/controls",
          "model_name": "HTMLModel",
          "model_module_version": "1.5.0",
          "state": {
            "_dom_classes": [],
            "_model_module": "@jupyter-widgets/controls",
            "_model_module_version": "1.5.0",
            "_model_name": "HTMLModel",
            "_view_count": null,
            "_view_module": "@jupyter-widgets/controls",
            "_view_module_version": "1.5.0",
            "_view_name": "HTMLView",
            "description": "",
            "description_tooltip": null,
            "layout": "IPY_MODEL_bbcf3c71b39c4438aca359404b88c068",
            "placeholder": "​",
            "style": "IPY_MODEL_f991e1a906f443ae8b243219b8a8472b",
            "value": "Batches: 100%"
          }
        },
        "7b5bcce897a64934ae9116f1e1fc8580": {
          "model_module": "@jupyter-widgets/controls",
          "model_name": "FloatProgressModel",
          "model_module_version": "1.5.0",
          "state": {
            "_dom_classes": [],
            "_model_module": "@jupyter-widgets/controls",
            "_model_module_version": "1.5.0",
            "_model_name": "FloatProgressModel",
            "_view_count": null,
            "_view_module": "@jupyter-widgets/controls",
            "_view_module_version": "1.5.0",
            "_view_name": "ProgressView",
            "bar_style": "success",
            "description": "",
            "description_tooltip": null,
            "layout": "IPY_MODEL_367d10ae54364d2fac10a20e731aadd1",
            "max": 1,
            "min": 0,
            "orientation": "horizontal",
            "style": "IPY_MODEL_1fec02eac5c24fe58edce9ae7fcda8b4",
            "value": 1
          }
        },
        "adcf3fffa5644f67b41da731979df7f3": {
          "model_module": "@jupyter-widgets/controls",
          "model_name": "HTMLModel",
          "model_module_version": "1.5.0",
          "state": {
            "_dom_classes": [],
            "_model_module": "@jupyter-widgets/controls",
            "_model_module_version": "1.5.0",
            "_model_name": "HTMLModel",
            "_view_count": null,
            "_view_module": "@jupyter-widgets/controls",
            "_view_module_version": "1.5.0",
            "_view_name": "HTMLView",
            "description": "",
            "description_tooltip": null,
            "layout": "IPY_MODEL_ccff51e5c3e74bf3810c499b55d55551",
            "placeholder": "​",
            "style": "IPY_MODEL_c18ed581cafb46d29edb53110afe013e",
            "value": " 1/1 [00:00&lt;00:00,  4.93it/s]"
          }
        },
        "46e7143835fa4f138651aa50191c65e0": {
          "model_module": "@jupyter-widgets/base",
          "model_name": "LayoutModel",
          "model_module_version": "1.2.0",
          "state": {
            "_model_module": "@jupyter-widgets/base",
            "_model_module_version": "1.2.0",
            "_model_name": "LayoutModel",
            "_view_count": null,
            "_view_module": "@jupyter-widgets/base",
            "_view_module_version": "1.2.0",
            "_view_name": "LayoutView",
            "align_content": null,
            "align_items": null,
            "align_self": null,
            "border": null,
            "bottom": null,
            "display": null,
            "flex": null,
            "flex_flow": null,
            "grid_area": null,
            "grid_auto_columns": null,
            "grid_auto_flow": null,
            "grid_auto_rows": null,
            "grid_column": null,
            "grid_gap": null,
            "grid_row": null,
            "grid_template_areas": null,
            "grid_template_columns": null,
            "grid_template_rows": null,
            "height": null,
            "justify_content": null,
            "justify_items": null,
            "left": null,
            "margin": null,
            "max_height": null,
            "max_width": null,
            "min_height": null,
            "min_width": null,
            "object_fit": null,
            "object_position": null,
            "order": null,
            "overflow": null,
            "overflow_x": null,
            "overflow_y": null,
            "padding": null,
            "right": null,
            "top": null,
            "visibility": null,
            "width": null
          }
        },
        "bbcf3c71b39c4438aca359404b88c068": {
          "model_module": "@jupyter-widgets/base",
          "model_name": "LayoutModel",
          "model_module_version": "1.2.0",
          "state": {
            "_model_module": "@jupyter-widgets/base",
            "_model_module_version": "1.2.0",
            "_model_name": "LayoutModel",
            "_view_count": null,
            "_view_module": "@jupyter-widgets/base",
            "_view_module_version": "1.2.0",
            "_view_name": "LayoutView",
            "align_content": null,
            "align_items": null,
            "align_self": null,
            "border": null,
            "bottom": null,
            "display": null,
            "flex": null,
            "flex_flow": null,
            "grid_area": null,
            "grid_auto_columns": null,
            "grid_auto_flow": null,
            "grid_auto_rows": null,
            "grid_column": null,
            "grid_gap": null,
            "grid_row": null,
            "grid_template_areas": null,
            "grid_template_columns": null,
            "grid_template_rows": null,
            "height": null,
            "justify_content": null,
            "justify_items": null,
            "left": null,
            "margin": null,
            "max_height": null,
            "max_width": null,
            "min_height": null,
            "min_width": null,
            "object_fit": null,
            "object_position": null,
            "order": null,
            "overflow": null,
            "overflow_x": null,
            "overflow_y": null,
            "padding": null,
            "right": null,
            "top": null,
            "visibility": null,
            "width": null
          }
        },
        "f991e1a906f443ae8b243219b8a8472b": {
          "model_module": "@jupyter-widgets/controls",
          "model_name": "DescriptionStyleModel",
          "model_module_version": "1.5.0",
          "state": {
            "_model_module": "@jupyter-widgets/controls",
            "_model_module_version": "1.5.0",
            "_model_name": "DescriptionStyleModel",
            "_view_count": null,
            "_view_module": "@jupyter-widgets/base",
            "_view_module_version": "1.2.0",
            "_view_name": "StyleView",
            "description_width": ""
          }
        },
        "367d10ae54364d2fac10a20e731aadd1": {
          "model_module": "@jupyter-widgets/base",
          "model_name": "LayoutModel",
          "model_module_version": "1.2.0",
          "state": {
            "_model_module": "@jupyter-widgets/base",
            "_model_module_version": "1.2.0",
            "_model_name": "LayoutModel",
            "_view_count": null,
            "_view_module": "@jupyter-widgets/base",
            "_view_module_version": "1.2.0",
            "_view_name": "LayoutView",
            "align_content": null,
            "align_items": null,
            "align_self": null,
            "border": null,
            "bottom": null,
            "display": null,
            "flex": null,
            "flex_flow": null,
            "grid_area": null,
            "grid_auto_columns": null,
            "grid_auto_flow": null,
            "grid_auto_rows": null,
            "grid_column": null,
            "grid_gap": null,
            "grid_row": null,
            "grid_template_areas": null,
            "grid_template_columns": null,
            "grid_template_rows": null,
            "height": null,
            "justify_content": null,
            "justify_items": null,
            "left": null,
            "margin": null,
            "max_height": null,
            "max_width": null,
            "min_height": null,
            "min_width": null,
            "object_fit": null,
            "object_position": null,
            "order": null,
            "overflow": null,
            "overflow_x": null,
            "overflow_y": null,
            "padding": null,
            "right": null,
            "top": null,
            "visibility": null,
            "width": null
          }
        },
        "1fec02eac5c24fe58edce9ae7fcda8b4": {
          "model_module": "@jupyter-widgets/controls",
          "model_name": "ProgressStyleModel",
          "model_module_version": "1.5.0",
          "state": {
            "_model_module": "@jupyter-widgets/controls",
            "_model_module_version": "1.5.0",
            "_model_name": "ProgressStyleModel",
            "_view_count": null,
            "_view_module": "@jupyter-widgets/base",
            "_view_module_version": "1.2.0",
            "_view_name": "StyleView",
            "bar_color": null,
            "description_width": ""
          }
        },
        "ccff51e5c3e74bf3810c499b55d55551": {
          "model_module": "@jupyter-widgets/base",
          "model_name": "LayoutModel",
          "model_module_version": "1.2.0",
          "state": {
            "_model_module": "@jupyter-widgets/base",
            "_model_module_version": "1.2.0",
            "_model_name": "LayoutModel",
            "_view_count": null,
            "_view_module": "@jupyter-widgets/base",
            "_view_module_version": "1.2.0",
            "_view_name": "LayoutView",
            "align_content": null,
            "align_items": null,
            "align_self": null,
            "border": null,
            "bottom": null,
            "display": null,
            "flex": null,
            "flex_flow": null,
            "grid_area": null,
            "grid_auto_columns": null,
            "grid_auto_flow": null,
            "grid_auto_rows": null,
            "grid_column": null,
            "grid_gap": null,
            "grid_row": null,
            "grid_template_areas": null,
            "grid_template_columns": null,
            "grid_template_rows": null,
            "height": null,
            "justify_content": null,
            "justify_items": null,
            "left": null,
            "margin": null,
            "max_height": null,
            "max_width": null,
            "min_height": null,
            "min_width": null,
            "object_fit": null,
            "object_position": null,
            "order": null,
            "overflow": null,
            "overflow_x": null,
            "overflow_y": null,
            "padding": null,
            "right": null,
            "top": null,
            "visibility": null,
            "width": null
          }
        },
        "c18ed581cafb46d29edb53110afe013e": {
          "model_module": "@jupyter-widgets/controls",
          "model_name": "DescriptionStyleModel",
          "model_module_version": "1.5.0",
          "state": {
            "_model_module": "@jupyter-widgets/controls",
            "_model_module_version": "1.5.0",
            "_model_name": "DescriptionStyleModel",
            "_view_count": null,
            "_view_module": "@jupyter-widgets/base",
            "_view_module_version": "1.2.0",
            "_view_name": "StyleView",
            "description_width": ""
          }
        }
      }
    }
  },
  "cells": [
    {
      "cell_type": "markdown",
      "metadata": {
        "id": "view-in-github",
        "colab_type": "text"
      },
      "source": [
        "<a href=\"https://colab.research.google.com/github/danielpatrickhug/GNNPapers/blob/master/bottom_up_vs_top_down.ipynb\" target=\"_parent\"><img src=\"https://colab.research.google.com/assets/colab-badge.svg\" alt=\"Open In Colab\"/></a>"
      ]
    },
    {
      "cell_type": "markdown",
      "source": [
        "# Quick review of kernels and message passing"
      ],
      "metadata": {
        "id": "yY0KniATGCYE"
      }
    },
    {
      "cell_type": "code",
      "execution_count": 1,
      "metadata": {
        "id": "6GoWfmE5EYVy"
      },
      "outputs": [],
      "source": [
        "%%capture\n",
        "%%bash\n",
        "\n",
        "pip install sentence-transformers"
      ]
    },
    {
      "cell_type": "code",
      "source": [
        "import numpy as np\n",
        "from sentence_transformers import SentenceTransformer\n",
        "import torch\n",
        "from torch import Tensor\n",
        "import pandas as pd\n",
        "import math"
      ],
      "metadata": {
        "id": "m8YO9qknEkIc"
      },
      "execution_count": 4,
      "outputs": []
    },
    {
      "cell_type": "code",
      "source": [
        "def embed_data(data, key='query', model_name='all-MiniLM-L6-v2', cores=1, gpu=False, batch_size=128):\n",
        "    \"\"\"\n",
        "    Embed the sentences/text using the MiniLM language model (which uses mean pooling)\n",
        "    \"\"\"\n",
        "    print('Embedding data')\n",
        "    model = SentenceTransformer(model_name)\n",
        "    print('Model loaded')\n",
        "\n",
        "    sentences = data[key].tolist()\n",
        "    unique_sentences = data[key].unique()\n",
        "    print('Unique sentences', len(unique_sentences))\n",
        "\n",
        "    if cores == 1:\n",
        "        embeddings = model.encode(unique_sentences, show_progress_bar=True, batch_size=batch_size)\n",
        "    else:\n",
        "        devices = ['cpu'] * cores\n",
        "        if gpu:\n",
        "            devices = None  # use all CUDA devices\n",
        "\n",
        "        # Start the multi-process pool on multiple devices\n",
        "        print('Multi-process pool starting')\n",
        "        pool = model.start_multi_process_pool(devices)\n",
        "        print('Multi-process pool started')\n",
        "\n",
        "        chunk_size = math.ceil(len(unique_sentences) / cores)\n",
        "\n",
        "        # Compute the embeddings using the multi-process pool\n",
        "        embeddings = model.encode_multi_process(unique_sentences, pool, batch_size=batch_size, chunk_size=chunk_size)\n",
        "        model.stop_multi_process_pool(pool)\n",
        "\n",
        "    print(\"Embeddings computed\")\n",
        "\n",
        "    mapping = {sentence: embedding for sentence, embedding in zip(unique_sentences, embeddings)}\n",
        "    embeddings = np.array([mapping[sentence] for sentence in sentences])\n",
        "  \n",
        "    return embeddings"
      ],
      "metadata": {
        "id": "im3g772qEyl0"
      },
      "execution_count": 28,
      "outputs": []
    },
    {
      "cell_type": "code",
      "source": [
        "sentences = ['This framework generates embeddings for each input sentence',\n",
        "    'Sentences are passed as a list of string.',\n",
        "    'The quick brown fox jumps over the lazy dog.',\n",
        "    \"Where was Marie Curie born?\",\n",
        "    \"Maria Sklodowska, later known as Marie Curie, was born on November 7, 1867.\",\n",
        "    \"Born in Paris on 15 May 1859, Pierre Curie was the son of Eugène Curie, a doctor of French Catholic origin from Alsace.\"]\n",
        "\n",
        "data = [(i, sent) for i, sent in enumerate(sentences)]\n",
        "data = pd.DataFrame(data, columns=['id', 'query'])"
      ],
      "metadata": {
        "id": "ZsmEW2rmSr47"
      },
      "execution_count": 113,
      "outputs": []
    },
    {
      "cell_type": "code",
      "source": [
        "#Bottom up adj matrix\n",
        "def cosine_similarity(a, b):\n",
        "    \"\"\"\n",
        "    inner product between two vectors divided by the norm\n",
        "    :a: n-dim feature vector\n",
        "    :b: n-dim feature vector\n",
        "    :return: the cosine similarity of the two embeddings\n",
        "    \"\"\"\n",
        "    if not isinstance(a, torch.Tensor):\n",
        "        a = torch.tensor(np.array(a))\n",
        "\n",
        "    if not isinstance(b, torch.Tensor):\n",
        "        b = torch.tensor(np.array(b))\n",
        "    return torch.dot(a, b) / (torch.norm(a) * torch.norm(b))\n",
        "\n",
        "def adjaceny_matrix(sentence_embeddings):\n",
        "    A = torch.zeros((sentence_embeddings.shape[0], sentence_embeddings.shape[0]))\n",
        "    for i in range(sentence_embeddings.shape[0]):\n",
        "        for j in range(sentence_embeddings.shape[0]):\n",
        "            i_j_sim = cosine_similarity(sentence_embeddings[i], sentence_embeddings[j])\n",
        "            A[i, j] = i_j_sim\n",
        "    return A\n",
        "\n",
        "#kernel\n",
        "def cos_sim(a: Tensor, b: Tensor):\n",
        "    \"\"\"\n",
        "    Computes the cosine similarity cos_sim(a[i], b[j]) for all i and j.\n",
        "    :return: Matrix with res[i][j]  = cos_sim(a[i], b[j])\n",
        "    \"\"\"\n",
        "    if not isinstance(a, torch.Tensor):\n",
        "        a = torch.tensor(np.array(a))\n",
        "\n",
        "    if not isinstance(b, torch.Tensor):\n",
        "        b = torch.tensor(np.array(b))\n",
        "\n",
        "    if len(a.shape) == 1:\n",
        "        a = a.unsqueeze(0)\n",
        "\n",
        "    if len(b.shape) == 1:\n",
        "        b = b.unsqueeze(0)\n",
        "\n",
        "    a_norm = torch.nn.functional.normalize(a, p=2, dim=1)\n",
        "    b_norm = torch.nn.functional.normalize(b, p=2, dim=1)\n",
        "    return torch.mm(a_norm, b_norm.transpose(0, 1))"
      ],
      "metadata": {
        "id": "TRBVy9XYElKr"
      },
      "execution_count": 67,
      "outputs": []
    },
    {
      "cell_type": "code",
      "source": [
        "MODEL_NAME = \"all-MiniLM-L6-v2\" #\"allenai-specter\"#\n",
        "embs = embed_data(data,model_name=MODEL_NAME)"
      ],
      "metadata": {
        "colab": {
          "base_uri": "https://localhost:8080/",
          "height": 121,
          "referenced_widgets": [
            "e436712117fd41d890d8a1578072b6e8",
            "af4183da7f9c44d8904170066a9f78c9",
            "2fdbc6e4d162405e9f18b92b63ec642b",
            "bcbd0ecb528b4727b842a523cddd0606",
            "1ddf9189d5934239bc61eddfbecac25c",
            "df3f8df495aa48979aeff1e5f4bb91ce",
            "33e12eace4b34552a428a9c13db45449",
            "09ae39c4fdc9433f9cb7a3be7a3383d7",
            "442f2862e8a34c30893af7beba356579",
            "564c483c5e3d4af2ad6a2d0bbd52b4a7",
            "0b964214e72e4cd4a18c54d90bd93cab"
          ]
        },
        "id": "d8A8KLfKFA3t",
        "outputId": "5a999e75-51ca-4ad6-df54-278775b78273"
      },
      "execution_count": 68,
      "outputs": [
        {
          "output_type": "stream",
          "name": "stdout",
          "text": [
            "Embedding data\n",
            "Model loaded\n",
            "Unique sentences 6\n"
          ]
        },
        {
          "output_type": "display_data",
          "data": {
            "text/plain": [
              "Batches:   0%|          | 0/1 [00:00<?, ?it/s]"
            ],
            "application/vnd.jupyter.widget-view+json": {
              "version_major": 2,
              "version_minor": 0,
              "model_id": "e436712117fd41d890d8a1578072b6e8"
            }
          },
          "metadata": {}
        },
        {
          "output_type": "stream",
          "name": "stdout",
          "text": [
            "Embeddings computed\n"
          ]
        }
      ]
    },
    {
      "cell_type": "code",
      "source": [
        "threshold=0.7"
      ],
      "metadata": {
        "id": "XOAr9wrnIGok"
      },
      "execution_count": 69,
      "outputs": []
    },
    {
      "cell_type": "markdown",
      "source": [
        "##kernel\n"
      ],
      "metadata": {
        "id": "rmi8ey-tGLZY"
      }
    },
    {
      "cell_type": "code",
      "source": [
        "A = cos_sim(embs, embs) \n",
        "adj_matrix = torch.zeros_like(A)\n",
        "adj_matrix[A > threshold] = 1\n",
        "adj_matrix[A <= threshold] = 0"
      ],
      "metadata": {
        "id": "UXpJ5wNUH0q6"
      },
      "execution_count": 70,
      "outputs": []
    },
    {
      "cell_type": "markdown",
      "source": [
        "##bottom-up"
      ],
      "metadata": {
        "id": "0JDHOlBoGN-p"
      }
    },
    {
      "cell_type": "code",
      "source": [
        "A_b = adjaceny_matrix(embs)\n",
        "adj_matrix_b = torch.zeros_like(A_b)\n",
        "adj_matrix_b[A_b > threshold] = 1\n",
        "adj_matrix_b[A_b <= threshold] = 0"
      ],
      "metadata": {
        "id": "MjSPHdpPGZtv"
      },
      "execution_count": 71,
      "outputs": []
    },
    {
      "cell_type": "markdown",
      "source": [
        "### thresholded map connections are equal "
      ],
      "metadata": {
        "id": "msGUPbl0GTF3"
      }
    },
    {
      "cell_type": "code",
      "source": [
        "adj_matrix == adj_matrix_b"
      ],
      "metadata": {
        "colab": {
          "base_uri": "https://localhost:8080/"
        },
        "id": "q8agMWLgG0fH",
        "outputId": "3153ce1b-0fc6-47d5-cd1a-b5a63da13c0c"
      },
      "execution_count": 72,
      "outputs": [
        {
          "output_type": "execute_result",
          "data": {
            "text/plain": [
              "tensor([[True, True, True, True, True, True],\n",
              "        [True, True, True, True, True, True],\n",
              "        [True, True, True, True, True, True],\n",
              "        [True, True, True, True, True, True],\n",
              "        [True, True, True, True, True, True],\n",
              "        [True, True, True, True, True, True]])"
            ]
          },
          "metadata": {},
          "execution_count": 72
        }
      ]
    },
    {
      "cell_type": "markdown",
      "source": [
        "## Message Passing"
      ],
      "metadata": {
        "id": "3MiBkmPAIOxU"
      }
    },
    {
      "cell_type": "code",
      "source": [
        "def k_hop_message_passing(A, node_features, k):\n",
        "    \"\"\"\n",
        "    Compute the k-hop adjacency matrix and aggregated features using message passing.\n",
        "\n",
        "    Parameters:\n",
        "    A (numpy array): The adjacency matrix of the graph.\n",
        "    node_features (numpy array): The feature matrix of the nodes.\n",
        "    k (int): The number of hops for message passing.\n",
        "\n",
        "    Returns:\n",
        "    A_k (numpy array): The k-hop adjacency matrix.\n",
        "    agg_features (numpy array): The aggregated feature matrix for each node in the k-hop neighborhood.\n",
        "    \"\"\"\n",
        "\n",
        "    print(\"Compute the k-hop adjacency matrix\")\n",
        "    A_k = np.linalg.matrix_power(A, k)\n",
        "\n",
        "    print(\"Aggregate the messages from the k-hop neighborhood:\")\n",
        "    agg_features = node_features.copy()\n",
        "\n",
        "    for i in range(k):\n",
        "        agg_features += np.matmul(np.linalg.matrix_power(A, i+1), node_features)\n",
        "\n",
        "    return A_k, agg_features"
      ],
      "metadata": {
        "id": "oaJWX-6NTVI-"
      },
      "execution_count": 143,
      "outputs": []
    },
    {
      "cell_type": "code",
      "source": [
        "A_k, agg = k_hop_message_passing(adj_matrix, embs, 2)\n",
        "A_k"
      ],
      "metadata": {
        "colab": {
          "base_uri": "https://localhost:8080/"
        },
        "id": "2kK8pqd_QyGX",
        "outputId": "df80c8c4-a5b6-4718-e240-7267141fa594"
      },
      "execution_count": 144,
      "outputs": [
        {
          "output_type": "stream",
          "name": "stdout",
          "text": [
            "Compute the k-hop adjacency matrix\n",
            "Aggregate the messages from the k-hop neighborhood:\n"
          ]
        },
        {
          "output_type": "execute_result",
          "data": {
            "text/plain": [
              "array([[2., 2., 0., 0., 0., 0.],\n",
              "       [2., 2., 0., 0., 0., 0.],\n",
              "       [0., 0., 1., 0., 0., 0.],\n",
              "       [0., 0., 0., 3., 3., 3.],\n",
              "       [0., 0., 0., 3., 3., 3.],\n",
              "       [0., 0., 0., 3., 3., 3.]], dtype=float32)"
            ]
          },
          "metadata": {},
          "execution_count": 144
        }
      ]
    },
    {
      "cell_type": "code",
      "source": [
        "U, S, VT = np.linalg.svd(adj_matrix)\n",
        "print(f'U: {U.shape}\\n')\n",
        "print(f'S: {S.shape}\\n')\n",
        "print(f'VT: {VT.shape}\\n')\n",
        "plt.plot(np.diag(S))\n",
        "plt.xlabel('Singular value index')\n",
        "plt.ylabel('Singular value')\n",
        "plt.title('Singular values of A')\n",
        "plt.show()"
      ],
      "metadata": {
        "colab": {
          "base_uri": "https://localhost:8080/",
          "height": 403
        },
        "id": "mOhoojeGJ_vQ",
        "outputId": "9be58a8a-d7b4-482b-b13e-14d29fb3b627"
      },
      "execution_count": 154,
      "outputs": [
        {
          "output_type": "stream",
          "name": "stdout",
          "text": [
            "U: (6, 6)\n",
            "\n",
            "S: (6,)\n",
            "\n",
            "VT: (6, 6)\n",
            "\n"
          ]
        },
        {
          "output_type": "display_data",
          "data": {
            "text/plain": [
              "<Figure size 432x288 with 1 Axes>"
            ],
            "image/png": "[encoded data removed]"
          },
          "metadata": {
            "needs_background": "light"
          }
        }
      ]
    },
    {
      "cell_type": "code",
      "source": [
        "agg==embs"
      ],
      "metadata": {
        "colab": {
          "base_uri": "https://localhost:8080/"
        },
        "id": "7q8575a-ISYj",
        "outputId": "8d8bdcc2-b3e9-446c-c414-acb557f59cc0"
      },
      "execution_count": 127,
      "outputs": [
        {
          "output_type": "execute_result",
          "data": {
            "text/plain": [
              "array([[False, False, False, ..., False, False, False],\n",
              "       [False, False, False, ..., False, False, False],\n",
              "       [ True,  True,  True, ...,  True,  True,  True],\n",
              "       [False, False, False, ..., False, False, False],\n",
              "       [False, False, False, ..., False, False, False],\n",
              "       [False, False, False, ..., False, False, False]])"
            ]
          },
          "metadata": {},
          "execution_count": 127
        }
      ]
    },
    {
      "cell_type": "code",
      "source": [
        "embs==embs"
      ],
      "metadata": {
        "colab": {
          "base_uri": "https://localhost:8080/"
        },
        "id": "mjzPNx_xIVOM",
        "outputId": "31fde23b-f3e8-463d-a0fb-98f5cd6ee920"
      },
      "execution_count": 128,
      "outputs": [
        {
          "output_type": "execute_result",
          "data": {
            "text/plain": [
              "array([[ True,  True,  True, ...,  True,  True,  True],\n",
              "       [ True,  True,  True, ...,  True,  True,  True],\n",
              "       [ True,  True,  True, ...,  True,  True,  True],\n",
              "       [ True,  True,  True, ...,  True,  True,  True],\n",
              "       [ True,  True,  True, ...,  True,  True,  True],\n",
              "       [ True,  True,  True, ...,  True,  True,  True]])"
            ]
          },
          "metadata": {},
          "execution_count": 128
        }
      ]
    },
    {
      "cell_type": "code",
      "source": [
        "import torch\n",
        "import math\n",
        "import matplotlib.pyplot as plt\n",
        "\n",
        "def k_hop_message_passing(A, node_features, exp):\n",
        "    # Convert adjacency matrix and node features to PyTorch tensors\n",
        "    A = torch.tensor(A)\n",
        "    node_features = torch.tensor(node_features)\n",
        "    \n",
        "    # Compute the k-hop adjacency matrix using PyTorch\n",
        "    A_k = A.clone().detach().float()\n",
        "    for i in range(int(exp)-1):\n",
        "        A_k = torch.matmul(A_k, A)\n",
        "    \n",
        "    # Compute the aggregated features using PyTorch\n",
        "    agg_features = torch.matmul(A_k, node_features)\n",
        "    \n",
        "    # Exponentiate the k-hop adjacency matrix by exp using PyTorch\n",
        "    A_k_exp = A_k ** exp\n",
        "    \n",
        "    # Return the exponentiated matrix and aggregated features as NumPy arrays\n",
        "    return A_k_exp.numpy(), agg_features.numpy()\n"
      ],
      "metadata": {
        "id": "zoI8pMbQUTtN"
      },
      "execution_count": 146,
      "outputs": []
    },
    {
      "cell_type": "code",
      "source": [
        "#Our sentences we like to encode\n",
        "sentences = ['This framework generates embeddings for each input sentence',\n",
        "    'Sentences are passed as a list of string.',\n",
        "    'The quick brown fox jumps over the lazy dog.',\n",
        "    \"Where was Marie Curie born?\",\n",
        "    \"Maria Sklodowska, later known as Marie Curie, was born on November 7, 1867.\",\n",
        "    \"Born in Paris on 15 May 1859, Pierre Curie was the son of Eugène Curie, a doctor of French Catholic origin from Alsace.\"]\n",
        "\n",
        "data = [(i, sent) for i, sent in enumerate(sentences)]\n",
        "data = pd.DataFrame(data, columns=['id', 'query'])\n",
        "embs = embed_data(data)\n",
        "print(embs.shape)\n",
        "A = cos_sim(embs, embs)\n",
        "adj_matrix = torch.zeros_like(A)\n",
        "adj_matrix[A > 0.5] = 1\n",
        "adj_matrix[A <= 0.5] = 0\n",
        "A_k, agg_features = k_hop_message_passing(adj_matrix, embs, math.e)\n",
        "A_k"
      ],
      "metadata": {
        "colab": {
          "base_uri": "https://localhost:8080/",
          "height": 391,
          "referenced_widgets": [
            "ff4e0fca8b414c9bb0fda07f3f0dfbe2",
            "3229ac6de10d47eebc9fcfafaf13d5bc",
            "7b5bcce897a64934ae9116f1e1fc8580",
            "adcf3fffa5644f67b41da731979df7f3",
            "46e7143835fa4f138651aa50191c65e0",
            "bbcf3c71b39c4438aca359404b88c068",
            "f991e1a906f443ae8b243219b8a8472b",
            "367d10ae54364d2fac10a20e731aadd1",
            "1fec02eac5c24fe58edce9ae7fcda8b4",
            "ccff51e5c3e74bf3810c499b55d55551",
            "c18ed581cafb46d29edb53110afe013e"
          ]
        },
        "id": "F8H3HLmLTeF_",
        "outputId": "a5b2956f-0b93-48c7-d0e5-8075dff45899"
      },
      "execution_count": 147,
      "outputs": [
        {
          "output_type": "stream",
          "name": "stdout",
          "text": [
            "Embedding data\n",
            "Model loaded\n",
            "Unique sentences 6\n"
          ]
        },
        {
          "output_type": "display_data",
          "data": {
            "text/plain": [
              "Batches:   0%|          | 0/1 [00:00<?, ?it/s]"
            ],
            "application/vnd.jupyter.widget-view+json": {
              "version_major": 2,
              "version_minor": 0,
              "model_id": "ff4e0fca8b414c9bb0fda07f3f0dfbe2"
            }
          },
          "metadata": {}
        },
        {
          "output_type": "stream",
          "name": "stdout",
          "text": [
            "Embeddings computed\n",
            "(6, 384)\n"
          ]
        },
        {
          "output_type": "stream",
          "name": "stderr",
          "text": [
            "<ipython-input-146-755027329b31>:7: UserWarning: To copy construct from a tensor, it is recommended to use sourceTensor.clone().detach() or sourceTensor.clone().detach().requires_grad_(True), rather than torch.tensor(sourceTensor).\n",
            "  A = torch.tensor(A)\n"
          ]
        },
        {
          "output_type": "execute_result",
          "data": {
            "text/plain": [
              "array([[ 6.5808854,  6.5808854,  0.       ,  0.       ,  0.       ,\n",
              "         0.       ],\n",
              "       [ 6.5808854,  6.5808854,  0.       ,  0.       ,  0.       ,\n",
              "         0.       ],\n",
              "       [ 0.       ,  0.       ,  1.       ,  0.       ,  0.       ,\n",
              "         0.       ],\n",
              "       [ 0.       ,  0.       ,  0.       , 19.812988 , 19.812988 ,\n",
              "        19.812988 ],\n",
              "       [ 0.       ,  0.       ,  0.       , 19.812988 , 19.812988 ,\n",
              "        19.812988 ],\n",
              "       [ 0.       ,  0.       ,  0.       , 19.81299  , 19.81299  ,\n",
              "        19.81299  ]], dtype=float32)"
            ]
          },
          "metadata": {},
          "execution_count": 147
        }
      ]
    },
    {
      "cell_type": "code",
      "source": [
        "U, S, VT = np.linalg.svd(A_k)\n",
        "print(f'U: {U.shape}\\n')\n",
        "print(f'S: {S.shape}\\n')\n",
        "print(f'VT: {VT.shape}\\n')\n",
        "plt.plot(np.diag(S))\n",
        "plt.xlabel('Singular value index')\n",
        "plt.ylabel('Singular value')\n",
        "plt.title('Singular values of A')\n",
        "plt.show()"
      ],
      "metadata": {
        "colab": {
          "base_uri": "https://localhost:8080/",
          "height": 403
        },
        "id": "4ustgQkeJjOA",
        "outputId": "f43b7c07-d6d4-4f8f-b369-ae4171f36654"
      },
      "execution_count": 148,
      "outputs": [
        {
          "output_type": "stream",
          "name": "stdout",
          "text": [
            "U: (6, 6)\n",
            "\n",
            "S: (6,)\n",
            "\n",
            "VT: (6, 6)\n",
            "\n"
          ]
        },
        {
          "output_type": "display_data",
          "data": {
            "text/plain": [
              "<Figure size 432x288 with 1 Axes>"
            ],
            "image/png": "[encoded data removed]"
          },
          "metadata": {
            "needs_background": "light"
          }
        }
      ]
    },
    {
      "cell_type": "code",
      "source": [
        "A_k, agg_features = k_hop_message_passing(adj_matrix, embs, math.pi)\n",
        "A_k"
      ],
      "metadata": {
        "colab": {
          "base_uri": "https://localhost:8080/"
        },
        "id": "wJWW7QahT24e",
        "outputId": "d18cb2aa-1ad4-4ea9-caa4-8f16146b8ce4"
      },
      "execution_count": 150,
      "outputs": [
        {
          "output_type": "stream",
          "name": "stderr",
          "text": [
            "<ipython-input-146-755027329b31>:7: UserWarning: To copy construct from a tensor, it is recommended to use sourceTensor.clone().detach() or sourceTensor.clone().detach().requires_grad_(True), rather than torch.tensor(sourceTensor).\n",
            "  A = torch.tensor(A)\n"
          ]
        },
        {
          "output_type": "execute_result",
          "data": {
            "text/plain": [
              "array([[ 77.88024,  77.88024,   0.     ,   0.     ,   0.     ,   0.     ],\n",
              "       [ 77.88024,  77.88024,   0.     ,   0.     ,   0.     ,   0.     ],\n",
              "       [  0.     ,   0.     ,   1.     ,   0.     ,   0.     ,   0.     ],\n",
              "       [  0.     ,   0.     ,   0.     , 995.0418 , 995.0418 , 995.0418 ],\n",
              "       [  0.     ,   0.     ,   0.     , 995.0418 , 995.0418 , 995.0418 ],\n",
              "       [  0.     ,   0.     ,   0.     , 995.0416 , 995.0416 , 995.0416 ]],\n",
              "      dtype=float32)"
            ]
          },
          "metadata": {},
          "execution_count": 150
        }
      ]
    },
    {
      "cell_type": "code",
      "source": [
        "U, S, VT = np.linalg.svd(A_k)\n",
        "print(f'U: {U.shape}\\n')\n",
        "print(f'S: {S.shape}\\n')\n",
        "print(f'VT: {VT.shape}\\n')\n",
        "plt.plot(np.diag(S))\n",
        "plt.xlabel('Singular value index')\n",
        "plt.ylabel('Singular value')\n",
        "plt.title('Singular values of A')\n",
        "plt.show()"
      ],
      "metadata": {
        "colab": {
          "base_uri": "https://localhost:8080/",
          "height": 403
        },
        "id": "j3k1KjtAK3GW",
        "outputId": "0306cc99-dc12-4c54-eef2-25d5f9a6f76a"
      },
      "execution_count": 151,
      "outputs": [
        {
          "output_type": "stream",
          "name": "stdout",
          "text": [
            "U: (6, 6)\n",
            "\n",
            "S: (6,)\n",
            "\n",
            "VT: (6, 6)\n",
            "\n"
          ]
        },
        {
          "output_type": "display_data",
          "data": {
            "text/plain": [
              "<Figure size 432x288 with 1 Axes>"
            ],
            "image/png": "[encoded data removed]"
          },
          "metadata": {
            "needs_background": "light"
          }
        }
      ]
    },
    {
      "cell_type": "code",
      "source": [
        "import math\n",
        "\n",
        "phi = (1 + math.sqrt(5)) / 2\n",
        "A_k, agg_features = k_hop_message_passing(adj_matrix, embs, phi)\n",
        "A_k"
      ],
      "metadata": {
        "colab": {
          "base_uri": "https://localhost:8080/"
        },
        "id": "C6ltDiQOU4_7",
        "outputId": "74c22032-78d0-4eaa-fc5f-d8eed6b7dc27"
      },
      "execution_count": 152,
      "outputs": [
        {
          "output_type": "stream",
          "name": "stderr",
          "text": [
            "<ipython-input-146-755027329b31>:7: UserWarning: To copy construct from a tensor, it is recommended to use sourceTensor.clone().detach() or sourceTensor.clone().detach().requires_grad_(True), rather than torch.tensor(sourceTensor).\n",
            "  A = torch.tensor(A)\n"
          ]
        },
        {
          "output_type": "execute_result",
          "data": {
            "text/plain": [
              "array([[1., 1., 0., 0., 0., 0.],\n",
              "       [1., 1., 0., 0., 0., 0.],\n",
              "       [0., 0., 1., 0., 0., 0.],\n",
              "       [0., 0., 0., 1., 1., 1.],\n",
              "       [0., 0., 0., 1., 1., 1.],\n",
              "       [0., 0., 0., 1., 1., 1.]], dtype=float32)"
            ]
          },
          "metadata": {},
          "execution_count": 152
        }
      ]
    },
    {
      "cell_type": "code",
      "source": [
        "U, S, VT = np.linalg.svd(A_k)\n",
        "print(f'U: {U.shape}\\n')\n",
        "print(f'S: {S.shape}\\n')\n",
        "print(f'VT: {VT.shape}\\n')\n",
        "plt.plot(np.diag(S))\n",
        "plt.xlabel('Singular value index')\n",
        "plt.ylabel('Singular value')\n",
        "plt.title('Singular values of A')\n",
        "plt.show()"
      ],
      "metadata": {
        "colab": {
          "base_uri": "https://localhost:8080/",
          "height": 403
        },
        "id": "Y_ZYJ_6gLelg",
        "outputId": "38c7b8b5-fb6c-47cb-843b-58045a69c825"
      },
      "execution_count": 153,
      "outputs": [
        {
          "output_type": "stream",
          "name": "stdout",
          "text": [
            "U: (6, 6)\n",
            "\n",
            "S: (6,)\n",
            "\n",
            "VT: (6, 6)\n",
            "\n"
          ]
        },
        {
          "output_type": "display_data",
          "data": {
            "text/plain": [
              "<Figure size 432x288 with 1 Axes>"
            ],
            "image/png": "[encoded data removed]"
          },
          "metadata": {
            "needs_background": "light"
          }
        }
      ]
    },
    {
      "cell_type": "code",
      "source": [
        "adj_matrix"
      ],
      "metadata": {
        "colab": {
          "base_uri": "https://localhost:8080/"
        },
        "id": "5jdlFdHsFqyA",
        "outputId": "2d7313b4-a66a-4fc6-a3e4-d1791ca0f426"
      },
      "execution_count": 99,
      "outputs": [
        {
          "output_type": "execute_result",
          "data": {
            "text/plain": [
              "tensor([[1., 1., 0., 0., 0., 0.],\n",
              "        [1., 1., 0., 0., 0., 0.],\n",
              "        [0., 0., 1., 0., 0., 0.],\n",
              "        [0., 0., 0., 1., 1., 1.],\n",
              "        [0., 0., 0., 1., 1., 1.],\n",
              "        [0., 0., 0., 1., 1., 1.]])"
            ]
          },
          "metadata": {},
          "execution_count": 99
        }
      ]
    },
    {
      "cell_type": "code",
      "source": [
        "cos_sim(agg_features, embs)"
      ],
      "metadata": {
        "colab": {
          "base_uri": "https://localhost:8080/"
        },
        "id": "WeIzb_2tFvGm",
        "outputId": "a973976e-a2ca-4ba7-d405-a53209b5c1e8"
      },
      "execution_count": 100,
      "outputs": [
        {
          "output_type": "execute_result",
          "data": {
            "text/plain": [
              "tensor([[ 0.8769,  0.8769,  0.1264,  0.0061, -0.0484, -0.0160],\n",
              "        [ 0.8769,  0.8769,  0.1264,  0.0061, -0.0484, -0.0160],\n",
              "        [ 0.1181,  0.1036,  1.0000, -0.0194, -0.0224, -0.0172],\n",
              "        [ 0.0307, -0.0703, -0.0228,  0.9048,  0.8509,  0.8294],\n",
              "        [ 0.0307, -0.0703, -0.0228,  0.9048,  0.8509,  0.8294],\n",
              "        [ 0.0307, -0.0703, -0.0228,  0.9048,  0.8509,  0.8294]])"
            ]
          },
          "metadata": {},
          "execution_count": 100
        }
      ]
    },
    {
      "cell_type": "code",
      "source": [
        "cos_sim(embs, embs)"
      ],
      "metadata": {
        "colab": {
          "base_uri": "https://localhost:8080/"
        },
        "id": "tiSM4gHuF3N_",
        "outputId": "19585dbd-d811-4d26-a191-f3c5d306e36d"
      },
      "execution_count": 102,
      "outputs": [
        {
          "output_type": "execute_result",
          "data": {
            "text/plain": [
              "tensor([[ 1.0000,  0.5381,  0.1181,  0.0364, -0.0141,  0.0571],\n",
              "        [ 0.5381,  1.0000,  0.1036, -0.0257, -0.0708, -0.0852],\n",
              "        [ 0.1181,  0.1036,  1.0000, -0.0194, -0.0224, -0.0172],\n",
              "        [ 0.0364, -0.0257, -0.0194,  1.0000,  0.6973,  0.6416],\n",
              "        [-0.0141, -0.0708, -0.0224,  0.6973,  1.0000,  0.5024],\n",
              "        [ 0.0571, -0.0852, -0.0172,  0.6416,  0.5024,  1.0000]])"
            ]
          },
          "metadata": {},
          "execution_count": 102
        }
      ]
    },
    {
      "cell_type": "code",
      "source": [
        "from typing import List, Tuple\n",
        "def linearly_sum_gnn_heads(\n",
        "    matrices: List[Tuple[np.ndarray, np.ndarray]], normalization_fn: str = \"max\"\n",
        ") -> Tuple[np.ndarray, np.ndarray]:\n",
        "    \"\"\"\n",
        "    Linearly sum a list of adjacency matrices and normalize the result. Also computes the average of the node embeddings\n",
        "    and checks that the number of documents in the adjacency matrices matches the number of documents in the embeddings set.\n",
        "\n",
        "    Parameters:\n",
        "    matrices (List of Tuple): List of tuples where each tuple contains an adjacency matrix and its\n",
        "        corresponding node embeddings.\n",
        "\n",
        "    Returns:\n",
        "    normalized_matrix (numpy array): The linearly summed and normalized adjacency matrix.\n",
        "    avg_embeddings (numpy array): The average node embeddings.\n",
        "    \"\"\"\n",
        "    if len(matrices) == 1:\n",
        "        return matrices[0]\n",
        "    # Compute the average of the embeddings\n",
        "    avg_embeddings = np.mean([t[1] for t in matrices], axis=0)\n",
        "\n",
        "    # Check that the number of documents in the adjacency matrices matches the number of documents in the embeddings set\n",
        "    num_docs_adj = matrices[0][0].shape[0]\n",
        "    num_docs_embs = avg_embeddings.shape[0]\n",
        "    if num_docs_adj != num_docs_embs:\n",
        "        raise ValueError(\n",
        "            \"Number of documents in adjacency matrix does not match number of documents in embeddings set.\"\n",
        "        )\n",
        "\n",
        "    # Linearly sum the adjacency matrices and normalize the matrix by dividing it by the maximum value\n",
        "    summed_matrix = sum([t[0] for t in matrices])\n",
        "    if normalization_fn == \"max\":\n",
        "        max_value = np.max(summed_matrix)\n",
        "        normalized_matrix = summed_matrix / max_value\n",
        "    elif normalization_fn == \"sum\":\n",
        "        normalized_matrix = summed_matrix / len(matrices)\n",
        "    elif normalization_fn == \"min-max\":\n",
        "        min_value = np.min(summed_matrix)\n",
        "        max_value = np.max(summed_matrix)\n",
        "        normalized_matrix = (summed_matrix - min_value) / (max_value - min_value)\n",
        "    elif normalization_fn == \"z_score\":\n",
        "        mean = np.mean(summed_matrix)\n",
        "        std = np.std(summed_matrix)\n",
        "        normalized_matrix = (summed_matrix - mean) / std\n",
        "    elif normalization_fn == \"circular\":\n",
        "        min_value = np.min(summed_matrix)\n",
        "        max_value = np.max(summed_matrix)\n",
        "        normalized_matrix_linear = (summed_matrix - min_value) / (max_value - min_value)\n",
        "        normalized_matrix = np.sin(2 * np.pi * normalized_matrix_linear)\n",
        "    else:\n",
        "        raise ValueError(f\"Normalization function {normalization_fn} not supported.\")\n",
        "\n",
        "    A_k, agg_embs = k_hop_message_passing(normalized_matrix, avg_embeddings, 1)\n",
        "    print(f\"adj matrix shape: {A_k.shape}\")\n",
        "    print(f\"agg embeddings shape: {agg_embs.shape}\")\n",
        "    return A_k, agg_embs"
      ],
      "metadata": {
        "id": "mpMRQNaRF77B"
      },
      "execution_count": 105,
      "outputs": []
    },
    {
      "cell_type": "code",
      "source": [
        "matricies = [k_hop_message_passing(adj_matrix, embs, math.e),k_hop_message_passing(adj_matrix, embs, math.pi), k_hop_message_passing(adj_matrix, embs, phi)]\n",
        "A_k, agg_embs = linearly_sum_gnn_heads(matricies, \"sum\")"
      ],
      "metadata": {
        "colab": {
          "base_uri": "https://localhost:8080/"
        },
        "id": "-QQ_c7RQHBlK",
        "outputId": "47b6b96d-735e-457a-c97d-25a959133d99"
      },
      "execution_count": 140,
      "outputs": [
        {
          "output_type": "stream",
          "name": "stdout",
          "text": [
            "adj matrix shape: (6, 6)\n",
            "agg embeddings shape: (6, 384)\n"
          ]
        },
        {
          "output_type": "stream",
          "name": "stderr",
          "text": [
            "<ipython-input-139-755027329b31>:7: UserWarning: To copy construct from a tensor, it is recommended to use sourceTensor.clone().detach() or sourceTensor.clone().detach().requires_grad_(True), rather than torch.tensor(sourceTensor).\n",
            "  A = torch.tensor(A)\n"
          ]
        }
      ]
    },
    {
      "cell_type": "code",
      "source": [
        "A_k"
      ],
      "metadata": {
        "colab": {
          "base_uri": "https://localhost:8080/"
        },
        "id": "yzfXkQcrHV08",
        "outputId": "757c99f5-9497-45a9-ff69-765db954ca1a"
      },
      "execution_count": 141,
      "outputs": [
        {
          "output_type": "execute_result",
          "data": {
            "text/plain": [
              "array([[ 28.487043,  28.487043,   0.      ,   0.      ,   0.      ,\n",
              "          0.      ],\n",
              "       [ 28.487043,  28.487043,   0.      ,   0.      ,   0.      ,\n",
              "          0.      ],\n",
              "       [  0.      ,   0.      ,   1.      ,   0.      ,   0.      ,\n",
              "          0.      ],\n",
              "       [  0.      ,   0.      ,   0.      , 338.61826 , 338.61826 ,\n",
              "        338.61826 ],\n",
              "       [  0.      ,   0.      ,   0.      , 338.61826 , 338.61826 ,\n",
              "        338.61826 ],\n",
              "       [  0.      ,   0.      ,   0.      , 338.6182  , 338.6182  ,\n",
              "        338.6182  ]], dtype=float32)"
            ]
          },
          "metadata": {},
          "execution_count": 141
        }
      ]
    },
    {
      "cell_type": "code",
      "source": [
        "U, S, VT = np.linalg.svd(A_k)\n",
        "print(f'U: {U.shape}\\n')\n",
        "print(f'S: {S.shape}\\n')\n",
        "print(f'VT: {VT.shape}\\n')\n",
        "plt.plot(np.diag(S))\n",
        "plt.xlabel('Singular value index')\n",
        "plt.ylabel('Singular value')\n",
        "plt.title('Singular values of A')\n",
        "plt.show()"
      ],
      "metadata": {
        "colab": {
          "base_uri": "https://localhost:8080/",
          "height": 403
        },
        "id": "fHn_WdaiHYtR",
        "outputId": "89d7ab5d-bf2d-48c7-d610-e0fbb63f9939"
      },
      "execution_count": 142,
      "outputs": [
        {
          "output_type": "stream",
          "name": "stdout",
          "text": [
            "U: (6, 6)\n",
            "\n",
            "S: (6,)\n",
            "\n",
            "VT: (6, 6)\n",
            "\n"
          ]
        },
        {
          "output_type": "display_data",
          "data": {
            "text/plain": [
              "<Figure size 432x288 with 1 Axes>"
            ],
            "image/png": "[encoded data removed]"
          },
          "metadata": {
            "needs_background": "light"
          }
        }
      ]
    },
    {
      "cell_type": "code",
      "source": [],
      "metadata": {
        "id": "s_Zr8R9oKsFk"
      },
      "execution_count": null,
      "outputs": []
    }
  ]
}